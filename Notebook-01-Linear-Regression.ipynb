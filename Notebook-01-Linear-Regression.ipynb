{
 "cells": [
  {
   "cell_type": "markdown",
   "id": "c10b388d",
   "metadata": {},
   "source": [
    "# Forest Fires ML Regression Project"
   ]
  },
  {
   "cell_type": "markdown",
   "id": "9bfed4bc",
   "metadata": {},
   "source": [
    "## 1. Introduction"
   ]
  },
  {
   "cell_type": "markdown",
   "id": "327890ba",
   "metadata": {},
   "source": [
    "This regression project use the forest fires dataset from UCI Machine Learning Repository. This project is aimed to analyse the dataset and create regression models based on the best accuracy and R2 scores.\n",
    "\n",
    "In this notebook we will explore the data and process it for modeling.\n",
    "This modeling notebook includes Linear, Lasso, Ridge, and Elastic Net regression models.\n",
    "\n",
    "**Content**\n",
    "\n",
    "1. Introduction\n",
    "2. Description of Forest Fires Dataset\n",
    "    1. Attributes\n",
    "    2. Reading the dataset\n",
    "03. Analysis\n",
    "    1. EDA    \n",
    "        1. Spatial Variables\n",
    "        2. Temporal Variables\n",
    "        3. FWI and M variables\n",
    "4. Modeling\n",
    "    1. Linear Regression\n",
    "        1. Training on the full dataset\n",
    "        2. Training on only 7 features out of 12\n",
    "    \n",
    "    2. Ridge Regression    \n",
    "        1. Training on the full dataset\n",
    "        2. Training on only 7 features out of 12\n",
    "    3. Lasso Regression\n",
    "        1. Training on the full dataset\n",
    "        2. Training on only 7 features out of 12\n",
    "    4. Elastic Net Regression    \n",
    "        1. Training on the full dataset\n",
    "        2. Training on only 7 features out of 12\n",
    "5. Summary"
   ]
  },
  {
   "cell_type": "markdown",
   "id": "c537e6bc",
   "metadata": {},
   "source": [
    "## 2. Description of Forest Fires Dataset"
   ]
  },
  {
   "cell_type": "markdown",
   "id": "e902747d",
   "metadata": {},
   "source": [
    "### A. Attributes\n",
    "#### Features\n",
    "\n",
    "*Spatial Attributes (S)*\n",
    "* X     : x-axis coordinate (from 1 to 9)\n",
    "* Y     : y-axis coordinate (from 1 to 9)\n",
    "\n",
    "*Temporal Attributes (T)*\n",
    "* month : Month of the year (January to December)\n",
    "* day   : Day of the week (Monday to Sunday)\n",
    "\n",
    "*Fire Weather Index Attributes (FWI)*\n",
    "* FFMC  : Fine Fuel Moisture Code\n",
    "* DMC   : Duff Moisture Code\n",
    "* DC    : Drought Code\n",
    "* ISI   : Initial Spread Index\n",
    "\n",
    "*Weather/Meteorological Attributes (M)*\n",
    "* temp  : Outside temperature (in Celsius)\n",
    "* RH    : Outside relative humidity (in percentage)\n",
    "* wind  : Outside wind speed (in kilometer per hour)\n",
    "* rain  : Outside rain (in millimeter per square meter)\n",
    "\n",
    "#### Target Variable\n",
    "* area  : Total burned area (in ha)"
   ]
  },
  {
   "cell_type": "markdown",
   "id": "4a59ee89",
   "metadata": {},
   "source": [
    "### B. Reading the dataset"
   ]
  },
  {
   "cell_type": "code",
   "execution_count": 1,
   "id": "06bd4e93",
   "metadata": {},
   "outputs": [],
   "source": [
    "# importing frameworks and libraries\n",
    "import pandas as pd\n",
    "import numpy as np\n",
    "import seaborn as sns\n",
    "import matplotlib as mpl\n",
    "import matplotlib.pyplot as plt\n",
    "\n",
    "from sklearn.preprocessing import MinMaxScaler\n",
    "from sklearn.preprocessing import StandardScaler\n",
    "from sklearn.preprocessing import PolynomialFeatures\n",
    "from sklearn.preprocessing import SplineTransformer\n",
    "from sklearn.model_selection import train_test_split\n",
    "from sklearn.model_selection import KFold\n",
    "from sklearn.model_selection import cross_val_score\n",
    "from sklearn.feature_selection import SelectPercentile\n",
    "from sklearn.feature_selection import SelectFromModel\n",
    "from sklearn.feature_selection import RFE\n",
    "from sklearn.linear_model import LinearRegression\n",
    "from sklearn.linear_model import Ridge, RidgeCV\n",
    "from sklearn.linear_model import Lasso, LassoCV\n",
    "from sklearn.linear_model import ElasticNet, ElasticNetCV\n",
    "from sklearn.metrics import r2_score\n",
    "\n",
    "# importing tools and functions\n",
    "import os\n",
    "import IPython.display\n",
    "from itertools import combinations as comb\n",
    "from itertools import permutations as perm\n",
    "\n",
    "# setting notebook for visualization\n",
    "%matplotlib inline\n",
    "plt.rcParams['figure.figsize'] = (7, 5)\n",
    "plt.rcParams['font.size'] = 12"
   ]
  },
  {
   "cell_type": "code",
   "execution_count": 2,
   "id": "fb7aa5d1",
   "metadata": {},
   "outputs": [],
   "source": [
    "# changing the current working directory to the data folder\n",
    "os.chdir('Data')"
   ]
  },
  {
   "cell_type": "code",
   "execution_count": 3,
   "id": "a6064e01",
   "metadata": {},
   "outputs": [],
   "source": [
    "# reading in the data as a dataframe\n",
    "df = pd.read_csv('forestfires.csv', sep = ',')\n",
    "data = df.copy()"
   ]
  },
  {
   "cell_type": "code",
   "execution_count": 4,
   "id": "e7da09ea",
   "metadata": {},
   "outputs": [
    {
     "name": "stdout",
     "output_type": "stream",
     "text": [
      "<class 'pandas.core.frame.DataFrame'>\n",
      "RangeIndex: 517 entries, 0 to 516\n",
      "Data columns (total 13 columns):\n",
      " #   Column  Non-Null Count  Dtype  \n",
      "---  ------  --------------  -----  \n",
      " 0   X       517 non-null    int64  \n",
      " 1   Y       517 non-null    int64  \n",
      " 2   month   517 non-null    object \n",
      " 3   day     517 non-null    object \n",
      " 4   FFMC    517 non-null    float64\n",
      " 5   DMC     517 non-null    float64\n",
      " 6   DC      517 non-null    float64\n",
      " 7   ISI     517 non-null    float64\n",
      " 8   temp    517 non-null    float64\n",
      " 9   RH      517 non-null    int64  \n",
      " 10  wind    517 non-null    float64\n",
      " 11  rain    517 non-null    float64\n",
      " 12  area    517 non-null    float64\n",
      "dtypes: float64(8), int64(3), object(2)\n",
      "memory usage: 52.6+ KB\n",
      "None\n"
     ]
    }
   ],
   "source": [
    "# information about the fires dataframe\n",
    "print(data.info())"
   ]
  },
  {
   "cell_type": "code",
   "execution_count": 5,
   "id": "be8fb362",
   "metadata": {},
   "outputs": [
    {
     "data": {
      "text/html": [
       "<div>\n",
       "<style scoped>\n",
       "    .dataframe tbody tr th:only-of-type {\n",
       "        vertical-align: middle;\n",
       "    }\n",
       "\n",
       "    .dataframe tbody tr th {\n",
       "        vertical-align: top;\n",
       "    }\n",
       "\n",
       "    .dataframe thead th {\n",
       "        text-align: right;\n",
       "    }\n",
       "</style>\n",
       "<table border=\"1\" class=\"dataframe\">\n",
       "  <thead>\n",
       "    <tr style=\"text-align: right;\">\n",
       "      <th></th>\n",
       "      <th>X</th>\n",
       "      <th>Y</th>\n",
       "      <th>month</th>\n",
       "      <th>day</th>\n",
       "      <th>FFMC</th>\n",
       "      <th>DMC</th>\n",
       "      <th>DC</th>\n",
       "      <th>ISI</th>\n",
       "      <th>temp</th>\n",
       "      <th>RH</th>\n",
       "      <th>wind</th>\n",
       "      <th>rain</th>\n",
       "      <th>area</th>\n",
       "    </tr>\n",
       "  </thead>\n",
       "  <tbody>\n",
       "    <tr>\n",
       "      <th>0</th>\n",
       "      <td>7</td>\n",
       "      <td>5</td>\n",
       "      <td>mar</td>\n",
       "      <td>fri</td>\n",
       "      <td>86.2</td>\n",
       "      <td>26.2</td>\n",
       "      <td>94.3</td>\n",
       "      <td>5.1</td>\n",
       "      <td>8.2</td>\n",
       "      <td>51</td>\n",
       "      <td>6.7</td>\n",
       "      <td>0.0</td>\n",
       "      <td>0.0</td>\n",
       "    </tr>\n",
       "    <tr>\n",
       "      <th>1</th>\n",
       "      <td>7</td>\n",
       "      <td>4</td>\n",
       "      <td>oct</td>\n",
       "      <td>tue</td>\n",
       "      <td>90.6</td>\n",
       "      <td>35.4</td>\n",
       "      <td>669.1</td>\n",
       "      <td>6.7</td>\n",
       "      <td>18.0</td>\n",
       "      <td>33</td>\n",
       "      <td>0.9</td>\n",
       "      <td>0.0</td>\n",
       "      <td>0.0</td>\n",
       "    </tr>\n",
       "    <tr>\n",
       "      <th>2</th>\n",
       "      <td>7</td>\n",
       "      <td>4</td>\n",
       "      <td>oct</td>\n",
       "      <td>sat</td>\n",
       "      <td>90.6</td>\n",
       "      <td>43.7</td>\n",
       "      <td>686.9</td>\n",
       "      <td>6.7</td>\n",
       "      <td>14.6</td>\n",
       "      <td>33</td>\n",
       "      <td>1.3</td>\n",
       "      <td>0.0</td>\n",
       "      <td>0.0</td>\n",
       "    </tr>\n",
       "    <tr>\n",
       "      <th>3</th>\n",
       "      <td>8</td>\n",
       "      <td>6</td>\n",
       "      <td>mar</td>\n",
       "      <td>fri</td>\n",
       "      <td>91.7</td>\n",
       "      <td>33.3</td>\n",
       "      <td>77.5</td>\n",
       "      <td>9.0</td>\n",
       "      <td>8.3</td>\n",
       "      <td>97</td>\n",
       "      <td>4.0</td>\n",
       "      <td>0.2</td>\n",
       "      <td>0.0</td>\n",
       "    </tr>\n",
       "    <tr>\n",
       "      <th>4</th>\n",
       "      <td>8</td>\n",
       "      <td>6</td>\n",
       "      <td>mar</td>\n",
       "      <td>sun</td>\n",
       "      <td>89.3</td>\n",
       "      <td>51.3</td>\n",
       "      <td>102.2</td>\n",
       "      <td>9.6</td>\n",
       "      <td>11.4</td>\n",
       "      <td>99</td>\n",
       "      <td>1.8</td>\n",
       "      <td>0.0</td>\n",
       "      <td>0.0</td>\n",
       "    </tr>\n",
       "  </tbody>\n",
       "</table>\n",
       "</div>"
      ],
      "text/plain": [
       "   X  Y month  day  FFMC   DMC     DC  ISI  temp  RH  wind  rain  area\n",
       "0  7  5   mar  fri  86.2  26.2   94.3  5.1   8.2  51   6.7   0.0   0.0\n",
       "1  7  4   oct  tue  90.6  35.4  669.1  6.7  18.0  33   0.9   0.0   0.0\n",
       "2  7  4   oct  sat  90.6  43.7  686.9  6.7  14.6  33   1.3   0.0   0.0\n",
       "3  8  6   mar  fri  91.7  33.3   77.5  9.0   8.3  97   4.0   0.2   0.0\n",
       "4  8  6   mar  sun  89.3  51.3  102.2  9.6  11.4  99   1.8   0.0   0.0"
      ]
     },
     "metadata": {},
     "output_type": "display_data"
    }
   ],
   "source": [
    "# displaying the first 5 columns\n",
    "display(data.head())"
   ]
  },
  {
   "cell_type": "code",
   "execution_count": 6,
   "id": "71810c35",
   "metadata": {},
   "outputs": [
    {
     "data": {
      "text/html": [
       "<div>\n",
       "<style scoped>\n",
       "    .dataframe tbody tr th:only-of-type {\n",
       "        vertical-align: middle;\n",
       "    }\n",
       "\n",
       "    .dataframe tbody tr th {\n",
       "        vertical-align: top;\n",
       "    }\n",
       "\n",
       "    .dataframe thead th {\n",
       "        text-align: right;\n",
       "    }\n",
       "</style>\n",
       "<table border=\"1\" class=\"dataframe\">\n",
       "  <thead>\n",
       "    <tr style=\"text-align: right;\">\n",
       "      <th></th>\n",
       "      <th>count</th>\n",
       "      <th>mean</th>\n",
       "      <th>std</th>\n",
       "      <th>min</th>\n",
       "      <th>25%</th>\n",
       "      <th>50%</th>\n",
       "      <th>75%</th>\n",
       "      <th>max</th>\n",
       "    </tr>\n",
       "  </thead>\n",
       "  <tbody>\n",
       "    <tr>\n",
       "      <th>X</th>\n",
       "      <td>517.0</td>\n",
       "      <td>4.669246</td>\n",
       "      <td>2.313778</td>\n",
       "      <td>1.0</td>\n",
       "      <td>3.0</td>\n",
       "      <td>4.00</td>\n",
       "      <td>7.00</td>\n",
       "      <td>9.00</td>\n",
       "    </tr>\n",
       "    <tr>\n",
       "      <th>Y</th>\n",
       "      <td>517.0</td>\n",
       "      <td>4.299807</td>\n",
       "      <td>1.229900</td>\n",
       "      <td>2.0</td>\n",
       "      <td>4.0</td>\n",
       "      <td>4.00</td>\n",
       "      <td>5.00</td>\n",
       "      <td>9.00</td>\n",
       "    </tr>\n",
       "    <tr>\n",
       "      <th>FFMC</th>\n",
       "      <td>517.0</td>\n",
       "      <td>90.644681</td>\n",
       "      <td>5.520111</td>\n",
       "      <td>18.7</td>\n",
       "      <td>90.2</td>\n",
       "      <td>91.60</td>\n",
       "      <td>92.90</td>\n",
       "      <td>96.20</td>\n",
       "    </tr>\n",
       "    <tr>\n",
       "      <th>DMC</th>\n",
       "      <td>517.0</td>\n",
       "      <td>110.872340</td>\n",
       "      <td>64.046482</td>\n",
       "      <td>1.1</td>\n",
       "      <td>68.6</td>\n",
       "      <td>108.30</td>\n",
       "      <td>142.40</td>\n",
       "      <td>291.30</td>\n",
       "    </tr>\n",
       "    <tr>\n",
       "      <th>DC</th>\n",
       "      <td>517.0</td>\n",
       "      <td>547.940039</td>\n",
       "      <td>248.066192</td>\n",
       "      <td>7.9</td>\n",
       "      <td>437.7</td>\n",
       "      <td>664.20</td>\n",
       "      <td>713.90</td>\n",
       "      <td>860.60</td>\n",
       "    </tr>\n",
       "    <tr>\n",
       "      <th>ISI</th>\n",
       "      <td>517.0</td>\n",
       "      <td>9.021663</td>\n",
       "      <td>4.559477</td>\n",
       "      <td>0.0</td>\n",
       "      <td>6.5</td>\n",
       "      <td>8.40</td>\n",
       "      <td>10.80</td>\n",
       "      <td>56.10</td>\n",
       "    </tr>\n",
       "    <tr>\n",
       "      <th>temp</th>\n",
       "      <td>517.0</td>\n",
       "      <td>18.889168</td>\n",
       "      <td>5.806625</td>\n",
       "      <td>2.2</td>\n",
       "      <td>15.5</td>\n",
       "      <td>19.30</td>\n",
       "      <td>22.80</td>\n",
       "      <td>33.30</td>\n",
       "    </tr>\n",
       "    <tr>\n",
       "      <th>RH</th>\n",
       "      <td>517.0</td>\n",
       "      <td>44.288201</td>\n",
       "      <td>16.317469</td>\n",
       "      <td>15.0</td>\n",
       "      <td>33.0</td>\n",
       "      <td>42.00</td>\n",
       "      <td>53.00</td>\n",
       "      <td>100.00</td>\n",
       "    </tr>\n",
       "    <tr>\n",
       "      <th>wind</th>\n",
       "      <td>517.0</td>\n",
       "      <td>4.017602</td>\n",
       "      <td>1.791653</td>\n",
       "      <td>0.4</td>\n",
       "      <td>2.7</td>\n",
       "      <td>4.00</td>\n",
       "      <td>4.90</td>\n",
       "      <td>9.40</td>\n",
       "    </tr>\n",
       "    <tr>\n",
       "      <th>rain</th>\n",
       "      <td>517.0</td>\n",
       "      <td>0.021663</td>\n",
       "      <td>0.295959</td>\n",
       "      <td>0.0</td>\n",
       "      <td>0.0</td>\n",
       "      <td>0.00</td>\n",
       "      <td>0.00</td>\n",
       "      <td>6.40</td>\n",
       "    </tr>\n",
       "    <tr>\n",
       "      <th>area</th>\n",
       "      <td>517.0</td>\n",
       "      <td>12.847292</td>\n",
       "      <td>63.655818</td>\n",
       "      <td>0.0</td>\n",
       "      <td>0.0</td>\n",
       "      <td>0.52</td>\n",
       "      <td>6.57</td>\n",
       "      <td>1090.84</td>\n",
       "    </tr>\n",
       "  </tbody>\n",
       "</table>\n",
       "</div>"
      ],
      "text/plain": [
       "      count        mean         std   min    25%     50%     75%      max\n",
       "X     517.0    4.669246    2.313778   1.0    3.0    4.00    7.00     9.00\n",
       "Y     517.0    4.299807    1.229900   2.0    4.0    4.00    5.00     9.00\n",
       "FFMC  517.0   90.644681    5.520111  18.7   90.2   91.60   92.90    96.20\n",
       "DMC   517.0  110.872340   64.046482   1.1   68.6  108.30  142.40   291.30\n",
       "DC    517.0  547.940039  248.066192   7.9  437.7  664.20  713.90   860.60\n",
       "ISI   517.0    9.021663    4.559477   0.0    6.5    8.40   10.80    56.10\n",
       "temp  517.0   18.889168    5.806625   2.2   15.5   19.30   22.80    33.30\n",
       "RH    517.0   44.288201   16.317469  15.0   33.0   42.00   53.00   100.00\n",
       "wind  517.0    4.017602    1.791653   0.4    2.7    4.00    4.90     9.40\n",
       "rain  517.0    0.021663    0.295959   0.0    0.0    0.00    0.00     6.40\n",
       "area  517.0   12.847292   63.655818   0.0    0.0    0.52    6.57  1090.84"
      ]
     },
     "metadata": {},
     "output_type": "display_data"
    }
   ],
   "source": [
    "# statistics about the fires dataframe\n",
    "display(data.describe().T)"
   ]
  },
  {
   "cell_type": "code",
   "execution_count": 7,
   "id": "8b3e64d8",
   "metadata": {},
   "outputs": [
    {
     "data": {
      "text/html": [
       "<div>\n",
       "<style scoped>\n",
       "    .dataframe tbody tr th:only-of-type {\n",
       "        vertical-align: middle;\n",
       "    }\n",
       "\n",
       "    .dataframe tbody tr th {\n",
       "        vertical-align: top;\n",
       "    }\n",
       "\n",
       "    .dataframe thead th {\n",
       "        text-align: right;\n",
       "    }\n",
       "</style>\n",
       "<table border=\"1\" class=\"dataframe\">\n",
       "  <thead>\n",
       "    <tr style=\"text-align: right;\">\n",
       "      <th></th>\n",
       "      <th>X</th>\n",
       "      <th>Y</th>\n",
       "      <th>FFMC</th>\n",
       "      <th>DMC</th>\n",
       "      <th>DC</th>\n",
       "      <th>ISI</th>\n",
       "      <th>temp</th>\n",
       "      <th>RH</th>\n",
       "      <th>wind</th>\n",
       "      <th>rain</th>\n",
       "      <th>area</th>\n",
       "    </tr>\n",
       "  </thead>\n",
       "  <tbody>\n",
       "    <tr>\n",
       "      <th>X</th>\n",
       "      <td>1.000000</td>\n",
       "      <td>0.539548</td>\n",
       "      <td>-0.021039</td>\n",
       "      <td>-0.048384</td>\n",
       "      <td>-0.085916</td>\n",
       "      <td>0.006210</td>\n",
       "      <td>-0.051258</td>\n",
       "      <td>0.085223</td>\n",
       "      <td>0.018798</td>\n",
       "      <td>0.065387</td>\n",
       "      <td>0.063385</td>\n",
       "    </tr>\n",
       "    <tr>\n",
       "      <th>Y</th>\n",
       "      <td>0.539548</td>\n",
       "      <td>1.000000</td>\n",
       "      <td>-0.046308</td>\n",
       "      <td>0.007782</td>\n",
       "      <td>-0.101178</td>\n",
       "      <td>-0.024488</td>\n",
       "      <td>-0.024103</td>\n",
       "      <td>0.062221</td>\n",
       "      <td>-0.020341</td>\n",
       "      <td>0.033234</td>\n",
       "      <td>0.044873</td>\n",
       "    </tr>\n",
       "    <tr>\n",
       "      <th>FFMC</th>\n",
       "      <td>-0.021039</td>\n",
       "      <td>-0.046308</td>\n",
       "      <td>1.000000</td>\n",
       "      <td>0.382619</td>\n",
       "      <td>0.330512</td>\n",
       "      <td>0.531805</td>\n",
       "      <td>0.431532</td>\n",
       "      <td>-0.300995</td>\n",
       "      <td>-0.028485</td>\n",
       "      <td>0.056702</td>\n",
       "      <td>0.040122</td>\n",
       "    </tr>\n",
       "    <tr>\n",
       "      <th>DMC</th>\n",
       "      <td>-0.048384</td>\n",
       "      <td>0.007782</td>\n",
       "      <td>0.382619</td>\n",
       "      <td>1.000000</td>\n",
       "      <td>0.682192</td>\n",
       "      <td>0.305128</td>\n",
       "      <td>0.469594</td>\n",
       "      <td>0.073795</td>\n",
       "      <td>-0.105342</td>\n",
       "      <td>0.074790</td>\n",
       "      <td>0.072994</td>\n",
       "    </tr>\n",
       "    <tr>\n",
       "      <th>DC</th>\n",
       "      <td>-0.085916</td>\n",
       "      <td>-0.101178</td>\n",
       "      <td>0.330512</td>\n",
       "      <td>0.682192</td>\n",
       "      <td>1.000000</td>\n",
       "      <td>0.229154</td>\n",
       "      <td>0.496208</td>\n",
       "      <td>-0.039192</td>\n",
       "      <td>-0.203466</td>\n",
       "      <td>0.035861</td>\n",
       "      <td>0.049383</td>\n",
       "    </tr>\n",
       "    <tr>\n",
       "      <th>ISI</th>\n",
       "      <td>0.006210</td>\n",
       "      <td>-0.024488</td>\n",
       "      <td>0.531805</td>\n",
       "      <td>0.305128</td>\n",
       "      <td>0.229154</td>\n",
       "      <td>1.000000</td>\n",
       "      <td>0.394287</td>\n",
       "      <td>-0.132517</td>\n",
       "      <td>0.106826</td>\n",
       "      <td>0.067668</td>\n",
       "      <td>0.008258</td>\n",
       "    </tr>\n",
       "    <tr>\n",
       "      <th>temp</th>\n",
       "      <td>-0.051258</td>\n",
       "      <td>-0.024103</td>\n",
       "      <td>0.431532</td>\n",
       "      <td>0.469594</td>\n",
       "      <td>0.496208</td>\n",
       "      <td>0.394287</td>\n",
       "      <td>1.000000</td>\n",
       "      <td>-0.527390</td>\n",
       "      <td>-0.227116</td>\n",
       "      <td>0.069491</td>\n",
       "      <td>0.097844</td>\n",
       "    </tr>\n",
       "    <tr>\n",
       "      <th>RH</th>\n",
       "      <td>0.085223</td>\n",
       "      <td>0.062221</td>\n",
       "      <td>-0.300995</td>\n",
       "      <td>0.073795</td>\n",
       "      <td>-0.039192</td>\n",
       "      <td>-0.132517</td>\n",
       "      <td>-0.527390</td>\n",
       "      <td>1.000000</td>\n",
       "      <td>0.069410</td>\n",
       "      <td>0.099751</td>\n",
       "      <td>-0.075519</td>\n",
       "    </tr>\n",
       "    <tr>\n",
       "      <th>wind</th>\n",
       "      <td>0.018798</td>\n",
       "      <td>-0.020341</td>\n",
       "      <td>-0.028485</td>\n",
       "      <td>-0.105342</td>\n",
       "      <td>-0.203466</td>\n",
       "      <td>0.106826</td>\n",
       "      <td>-0.227116</td>\n",
       "      <td>0.069410</td>\n",
       "      <td>1.000000</td>\n",
       "      <td>0.061119</td>\n",
       "      <td>0.012317</td>\n",
       "    </tr>\n",
       "    <tr>\n",
       "      <th>rain</th>\n",
       "      <td>0.065387</td>\n",
       "      <td>0.033234</td>\n",
       "      <td>0.056702</td>\n",
       "      <td>0.074790</td>\n",
       "      <td>0.035861</td>\n",
       "      <td>0.067668</td>\n",
       "      <td>0.069491</td>\n",
       "      <td>0.099751</td>\n",
       "      <td>0.061119</td>\n",
       "      <td>1.000000</td>\n",
       "      <td>-0.007366</td>\n",
       "    </tr>\n",
       "    <tr>\n",
       "      <th>area</th>\n",
       "      <td>0.063385</td>\n",
       "      <td>0.044873</td>\n",
       "      <td>0.040122</td>\n",
       "      <td>0.072994</td>\n",
       "      <td>0.049383</td>\n",
       "      <td>0.008258</td>\n",
       "      <td>0.097844</td>\n",
       "      <td>-0.075519</td>\n",
       "      <td>0.012317</td>\n",
       "      <td>-0.007366</td>\n",
       "      <td>1.000000</td>\n",
       "    </tr>\n",
       "  </tbody>\n",
       "</table>\n",
       "</div>"
      ],
      "text/plain": [
       "             X         Y      FFMC       DMC        DC       ISI      temp  \\\n",
       "X     1.000000  0.539548 -0.021039 -0.048384 -0.085916  0.006210 -0.051258   \n",
       "Y     0.539548  1.000000 -0.046308  0.007782 -0.101178 -0.024488 -0.024103   \n",
       "FFMC -0.021039 -0.046308  1.000000  0.382619  0.330512  0.531805  0.431532   \n",
       "DMC  -0.048384  0.007782  0.382619  1.000000  0.682192  0.305128  0.469594   \n",
       "DC   -0.085916 -0.101178  0.330512  0.682192  1.000000  0.229154  0.496208   \n",
       "ISI   0.006210 -0.024488  0.531805  0.305128  0.229154  1.000000  0.394287   \n",
       "temp -0.051258 -0.024103  0.431532  0.469594  0.496208  0.394287  1.000000   \n",
       "RH    0.085223  0.062221 -0.300995  0.073795 -0.039192 -0.132517 -0.527390   \n",
       "wind  0.018798 -0.020341 -0.028485 -0.105342 -0.203466  0.106826 -0.227116   \n",
       "rain  0.065387  0.033234  0.056702  0.074790  0.035861  0.067668  0.069491   \n",
       "area  0.063385  0.044873  0.040122  0.072994  0.049383  0.008258  0.097844   \n",
       "\n",
       "            RH      wind      rain      area  \n",
       "X     0.085223  0.018798  0.065387  0.063385  \n",
       "Y     0.062221 -0.020341  0.033234  0.044873  \n",
       "FFMC -0.300995 -0.028485  0.056702  0.040122  \n",
       "DMC   0.073795 -0.105342  0.074790  0.072994  \n",
       "DC   -0.039192 -0.203466  0.035861  0.049383  \n",
       "ISI  -0.132517  0.106826  0.067668  0.008258  \n",
       "temp -0.527390 -0.227116  0.069491  0.097844  \n",
       "RH    1.000000  0.069410  0.099751 -0.075519  \n",
       "wind  0.069410  1.000000  0.061119  0.012317  \n",
       "rain  0.099751  0.061119  1.000000 -0.007366  \n",
       "area -0.075519  0.012317 -0.007366  1.000000  "
      ]
     },
     "metadata": {},
     "output_type": "display_data"
    }
   ],
   "source": [
    "# correlation values among features\n",
    "display(data.corr())"
   ]
  },
  {
   "cell_type": "markdown",
   "id": "2980fb91",
   "metadata": {},
   "source": [
    "It's obviuos that the data conatians features that aren't well correlated."
   ]
  },
  {
   "cell_type": "markdown",
   "id": "8a39da58",
   "metadata": {},
   "source": [
    "## 3. Analysis"
   ]
  },
  {
   "cell_type": "markdown",
   "id": "af20055e",
   "metadata": {},
   "source": [
    "### A. Exploratory Data Analysis (EDA)"
   ]
  },
  {
   "cell_type": "markdown",
   "id": "5d15ad45",
   "metadata": {},
   "source": [
    "#### a. Spatial Variables"
   ]
  },
  {
   "cell_type": "code",
   "execution_count": 8,
   "id": "5b81ef0b",
   "metadata": {},
   "outputs": [
    {
     "data": {
      "image/png": "[encoded data removed]",
      "text/plain": [
       "<Figure size 504x360 with 1 Axes>"
      ]
     },
     "metadata": {
      "needs_background": "light"
     },
     "output_type": "display_data"
    }
   ],
   "source": [
    "_ = plt.scatter(data['X'], data['Y'])\n",
    "_ = plt.xlabel('X')\n",
    "_ = plt.ylabel('Y')"
   ]
  },
  {
   "cell_type": "code",
   "execution_count": 9,
   "id": "2e2ab45e",
   "metadata": {},
   "outputs": [
    {
     "data": {
      "image/png": "[encoded data removed]",
      "text/plain": [
       "<Figure size 720x360 with 2 Axes>"
      ]
     },
     "metadata": {
      "needs_background": "light"
     },
     "output_type": "display_data"
    }
   ],
   "source": [
    "_, axes = plt.subplots(1, 2, figsize = (10, 5))\n",
    "axes = axes.ravel()\n",
    "_ = axes[0].hist(data['X'])\n",
    "_ = axes[0].set(ylabel = 'Frequency', xlabel = 'Value', title = 'X')\n",
    "_ = axes[1].hist(data['Y'])\n",
    "_ = axes[1].set(ylabel = 'Frequency', xlabel = 'Value', title = 'Y')"
   ]
  },
  {
   "cell_type": "code",
   "execution_count": 10,
   "id": "65df0cf0",
   "metadata": {},
   "outputs": [],
   "source": [
    "# initiating preprocessing functions\n",
    "spline = SplineTransformer()\n",
    "scaler = MinMaxScaler()"
   ]
  },
  {
   "cell_type": "code",
   "execution_count": 11,
   "id": "2443818c",
   "metadata": {},
   "outputs": [
    {
     "name": "stdout",
     "output_type": "stream",
     "text": [
      "R2 score on the spatial data: 0.004178412808571008\n"
     ]
    }
   ],
   "source": [
    "s_data = data[['X', 'Y']]\n",
    "y = data['area']\n",
    "\n",
    "s_data_scaled = pd.DataFrame(scaler.fit_transform(s_data), columns = scaler.get_feature_names_out())\n",
    "\n",
    "# getting the R2 score using the spatial data only\n",
    "predictions = LinearRegression().fit(s_data_scaled, y).predict(s_data_scaled)\n",
    "print(f'R2 score on the spatial data: {r2_score(y, predictions)}')"
   ]
  },
  {
   "cell_type": "code",
   "execution_count": 12,
   "id": "c77234fa",
   "metadata": {},
   "outputs": [
    {
     "name": "stdout",
     "output_type": "stream",
     "text": [
      "R2 score on the spatial data: 0.024734436932836723\n"
     ]
    }
   ],
   "source": [
    "# adding 6 splines of the X and Y attributes as found in literature and measuring the R2 score.\n",
    "\n",
    "s_data_splined = pd.DataFrame(spline.fit_transform(s_data), columns = spline.get_feature_names_out())\n",
    "s_data_scaled = pd.DataFrame(scaler.fit_transform(s_data_splined), columns = scaler.get_feature_names_out())\n",
    "\n",
    "# getting the R2 score using the spline spatial data only\n",
    "predictions = LinearRegression().fit(s_data_scaled, y).predict(s_data_scaled)\n",
    "print(f'R2 score on the spatial data: {r2_score(y, predictions)}')"
   ]
  },
  {
   "cell_type": "code",
   "execution_count": 13,
   "id": "d084256f",
   "metadata": {},
   "outputs": [
    {
     "name": "stdout",
     "output_type": "stream",
     "text": [
      "R2 score on the spatial spline data: 0.024250639395380413\n"
     ]
    }
   ],
   "source": [
    "# checking if the multiplication of the X and Y attributes produces better results or not.\n",
    "\n",
    "s_data = pd.DataFrame(data['X'] * data['Y'], columns = ['Spatial'])\n",
    "\n",
    "s_data_splined = pd.DataFrame(spline.fit_transform(s_data), columns = spline.get_feature_names_out())\n",
    "\n",
    "s_data_scaled = pd.DataFrame(scaler.fit_transform(s_data_splined), columns = scaler.get_feature_names_out())\n",
    "\n",
    "# getting the R2 score using the spatial data only\n",
    "predictions = LinearRegression().fit(s_data_scaled, y).predict(s_data_scaled)\n",
    "print(f'R2 score on the spatial spline data: {r2_score(y, predictions)}')"
   ]
  },
  {
   "cell_type": "markdown",
   "id": "66727d09",
   "metadata": {},
   "source": [
    "#### b. Temporal Variables"
   ]
  },
  {
   "cell_type": "code",
   "execution_count": 14,
   "id": "572ef400",
   "metadata": {},
   "outputs": [
    {
     "name": "stdout",
     "output_type": "stream",
     "text": [
      "sun    95\n",
      "fri    85\n",
      "sat    84\n",
      "mon    74\n",
      "tue    64\n",
      "thu    61\n",
      "wed    54\n",
      "Name: day, dtype: int64\n"
     ]
    }
   ],
   "source": [
    "print(data['day'].value_counts())"
   ]
  },
  {
   "cell_type": "code",
   "execution_count": 15,
   "id": "6f78a161",
   "metadata": {},
   "outputs": [
    {
     "name": "stdout",
     "output_type": "stream",
     "text": [
      "aug    184\n",
      "sep    172\n",
      "mar     54\n",
      "jul     32\n",
      "feb     20\n",
      "jun     17\n",
      "oct     15\n",
      "apr      9\n",
      "dec      9\n",
      "jan      2\n",
      "may      2\n",
      "nov      1\n",
      "Name: month, dtype: int64\n"
     ]
    }
   ],
   "source": [
    "print(data['month'].value_counts())"
   ]
  },
  {
   "cell_type": "code",
   "execution_count": 16,
   "id": "0c8033e6",
   "metadata": {},
   "outputs": [],
   "source": [
    "# dictionary to replace days and months\n",
    "\n",
    "days = {'mon': 1, 'tue': 2, 'wed': 3, 'thu': 4, 'fri': 5, 'sat': 6, 'sun': 7}\n",
    "months = {'jan': 1, 'feb': 2, 'mar': 3, 'apr': 4, 'may': 5, 'jun': 6,\n",
    "         'jul': 7, 'aug': 8, 'sep': 9, 'oct': 10, 'nov': 11, 'dec': 12}"
   ]
  },
  {
   "cell_type": "code",
   "execution_count": 17,
   "id": "313ce9b1",
   "metadata": {},
   "outputs": [
    {
     "data": {
      "text/html": [
       "<div>\n",
       "<style scoped>\n",
       "    .dataframe tbody tr th:only-of-type {\n",
       "        vertical-align: middle;\n",
       "    }\n",
       "\n",
       "    .dataframe tbody tr th {\n",
       "        vertical-align: top;\n",
       "    }\n",
       "\n",
       "    .dataframe thead th {\n",
       "        text-align: right;\n",
       "    }\n",
       "</style>\n",
       "<table border=\"1\" class=\"dataframe\">\n",
       "  <thead>\n",
       "    <tr style=\"text-align: right;\">\n",
       "      <th></th>\n",
       "      <th>X</th>\n",
       "      <th>Y</th>\n",
       "      <th>month</th>\n",
       "      <th>day</th>\n",
       "      <th>FFMC</th>\n",
       "      <th>DMC</th>\n",
       "      <th>DC</th>\n",
       "      <th>ISI</th>\n",
       "      <th>temp</th>\n",
       "      <th>RH</th>\n",
       "      <th>wind</th>\n",
       "      <th>rain</th>\n",
       "      <th>area</th>\n",
       "    </tr>\n",
       "  </thead>\n",
       "  <tbody>\n",
       "    <tr>\n",
       "      <th>0</th>\n",
       "      <td>7</td>\n",
       "      <td>5</td>\n",
       "      <td>3</td>\n",
       "      <td>5</td>\n",
       "      <td>86.2</td>\n",
       "      <td>26.2</td>\n",
       "      <td>94.3</td>\n",
       "      <td>5.1</td>\n",
       "      <td>8.2</td>\n",
       "      <td>51</td>\n",
       "      <td>6.7</td>\n",
       "      <td>0.0</td>\n",
       "      <td>0.0</td>\n",
       "    </tr>\n",
       "    <tr>\n",
       "      <th>1</th>\n",
       "      <td>7</td>\n",
       "      <td>4</td>\n",
       "      <td>10</td>\n",
       "      <td>2</td>\n",
       "      <td>90.6</td>\n",
       "      <td>35.4</td>\n",
       "      <td>669.1</td>\n",
       "      <td>6.7</td>\n",
       "      <td>18.0</td>\n",
       "      <td>33</td>\n",
       "      <td>0.9</td>\n",
       "      <td>0.0</td>\n",
       "      <td>0.0</td>\n",
       "    </tr>\n",
       "    <tr>\n",
       "      <th>2</th>\n",
       "      <td>7</td>\n",
       "      <td>4</td>\n",
       "      <td>10</td>\n",
       "      <td>6</td>\n",
       "      <td>90.6</td>\n",
       "      <td>43.7</td>\n",
       "      <td>686.9</td>\n",
       "      <td>6.7</td>\n",
       "      <td>14.6</td>\n",
       "      <td>33</td>\n",
       "      <td>1.3</td>\n",
       "      <td>0.0</td>\n",
       "      <td>0.0</td>\n",
       "    </tr>\n",
       "    <tr>\n",
       "      <th>3</th>\n",
       "      <td>8</td>\n",
       "      <td>6</td>\n",
       "      <td>3</td>\n",
       "      <td>5</td>\n",
       "      <td>91.7</td>\n",
       "      <td>33.3</td>\n",
       "      <td>77.5</td>\n",
       "      <td>9.0</td>\n",
       "      <td>8.3</td>\n",
       "      <td>97</td>\n",
       "      <td>4.0</td>\n",
       "      <td>0.2</td>\n",
       "      <td>0.0</td>\n",
       "    </tr>\n",
       "    <tr>\n",
       "      <th>4</th>\n",
       "      <td>8</td>\n",
       "      <td>6</td>\n",
       "      <td>3</td>\n",
       "      <td>7</td>\n",
       "      <td>89.3</td>\n",
       "      <td>51.3</td>\n",
       "      <td>102.2</td>\n",
       "      <td>9.6</td>\n",
       "      <td>11.4</td>\n",
       "      <td>99</td>\n",
       "      <td>1.8</td>\n",
       "      <td>0.0</td>\n",
       "      <td>0.0</td>\n",
       "    </tr>\n",
       "  </tbody>\n",
       "</table>\n",
       "</div>"
      ],
      "text/plain": [
       "   X  Y  month  day  FFMC   DMC     DC  ISI  temp  RH  wind  rain  area\n",
       "0  7  5      3    5  86.2  26.2   94.3  5.1   8.2  51   6.7   0.0   0.0\n",
       "1  7  4     10    2  90.6  35.4  669.1  6.7  18.0  33   0.9   0.0   0.0\n",
       "2  7  4     10    6  90.6  43.7  686.9  6.7  14.6  33   1.3   0.0   0.0\n",
       "3  8  6      3    5  91.7  33.3   77.5  9.0   8.3  97   4.0   0.2   0.0\n",
       "4  8  6      3    7  89.3  51.3  102.2  9.6  11.4  99   1.8   0.0   0.0"
      ]
     },
     "metadata": {},
     "output_type": "display_data"
    }
   ],
   "source": [
    "# encoding the attributes\n",
    "\n",
    "data['day'] = data['day'].replace(days)\n",
    "data['month'] = data['month'].replace(months)\n",
    "\n",
    "display(data.head())"
   ]
  },
  {
   "cell_type": "code",
   "execution_count": 18,
   "id": "af33d6fd",
   "metadata": {},
   "outputs": [
    {
     "data": {
      "image/png": "[encoded data removed]",
      "text/plain": [
       "<Figure size 504x360 with 1 Axes>"
      ]
     },
     "metadata": {
      "needs_background": "light"
     },
     "output_type": "display_data"
    }
   ],
   "source": [
    "_ = plt.scatter(data['month'], data['day'])\n",
    "_ = plt.xlabel('month')\n",
    "_ = plt.ylabel('day')"
   ]
  },
  {
   "cell_type": "code",
   "execution_count": 19,
   "id": "9ce8fbac",
   "metadata": {},
   "outputs": [
    {
     "data": {
      "image/png": "[encoded data removed]",
      "text/plain": [
       "<Figure size 504x360 with 1 Axes>"
      ]
     },
     "metadata": {
      "needs_background": "light"
     },
     "output_type": "display_data"
    }
   ],
   "source": [
    "_ = plt.scatter(np.sin(data['month']), np.sin(data['day']))\n",
    "_ = plt.xlabel('sin(month)')\n",
    "_ = plt.ylabel('sin(day)')"
   ]
  },
  {
   "cell_type": "code",
   "execution_count": 20,
   "id": "2defb8eb",
   "metadata": {
    "scrolled": false
   },
   "outputs": [],
   "source": [
    "# transforming the month and day data using a sinusiodal function\n",
    "\n",
    "data['day'] = np.sin(data['day'])\n",
    "data['month'] = np.sin(data['month'])\n",
    "\n",
    "# renaming features after transformation\n",
    "data.rename(columns = {'day': 'sin(day)', 'month': 'sin(month)'}, inplace = True)"
   ]
  },
  {
   "cell_type": "code",
   "execution_count": 21,
   "id": "47e2e2e1",
   "metadata": {},
   "outputs": [
    {
     "name": "stdout",
     "output_type": "stream",
     "text": [
      "R2 score on the combined spatial and temporal data: 0.00476805661789137\n"
     ]
    }
   ],
   "source": [
    "# checking the advancement in the results using both the spatil and temporal data\n",
    "\n",
    "st_data = data[['X', 'Y', 'sin(day)', 'sin(month)']]\n",
    "predictions = LinearRegression().fit(st_data, y).predict(st_data)\n",
    "print(f'R2 score on the combined spatial and temporal data: {r2_score(y, predictions)}')"
   ]
  },
  {
   "cell_type": "code",
   "execution_count": 22,
   "id": "8a4c6034",
   "metadata": {},
   "outputs": [
    {
     "name": "stdout",
     "output_type": "stream",
     "text": [
      "R2 score on the spatial and temporal spline data: 0.04096508340395211\n"
     ]
    }
   ],
   "source": [
    "# now we add splines to the data and see if it produces better results\n",
    "\n",
    "st_data_splined = pd.DataFrame(spline.fit_transform(st_data), columns = spline.get_feature_names_out())\n",
    "\n",
    "st_data_scaled = pd.DataFrame(scaler.fit_transform(st_data_splined), columns = scaler.get_feature_names_out())\n",
    "\n",
    "# getting the R2 score using the spatial data only\n",
    "predictions = LinearRegression().fit(st_data_scaled, y).predict(st_data_scaled)\n",
    "print(f'R2 score on the spatial and temporal spline data: {r2_score(y, predictions)}')"
   ]
  },
  {
   "cell_type": "markdown",
   "id": "df9fe357",
   "metadata": {},
   "source": [
    "#### c. FWI and M Variables"
   ]
  },
  {
   "cell_type": "code",
   "execution_count": 23,
   "id": "05117d4b",
   "metadata": {},
   "outputs": [
    {
     "name": "stdout",
     "output_type": "stream",
     "text": [
      "features names: \n",
      "['X', 'Y', 'sin(month)', 'sin(day)', 'FFMC', 'DMC', 'DC', 'ISI', 'temp', 'RH', 'wind', 'rain']\n"
     ]
    }
   ],
   "source": [
    "# getting featuers names in one list\n",
    "\n",
    "features_names = list(data.columns)\n",
    "features_names.remove('area')\n",
    "print(f'features names: \\n{features_names}')"
   ]
  },
  {
   "cell_type": "code",
   "execution_count": 24,
   "id": "2527b74f",
   "metadata": {},
   "outputs": [
    {
     "data": {
      "image/png": "[encoded data removed]",
      "text/plain": [
       "<Figure size 720x720 with 8 Axes>"
      ]
     },
     "metadata": {
      "needs_background": "light"
     },
     "output_type": "display_data"
    }
   ],
   "source": [
    "# plotting the distribution of the FWI and M features\n",
    "\n",
    "_, axes = plt.subplots(4, 2, figsize = (10, 10))\n",
    "axes = axes.ravel()\n",
    "\n",
    "for i, feature in enumerate(features_names[4:]):\n",
    "    axes[i].hist(data[feature])\n",
    "    axes[i].set_title(feature)\n",
    "\n",
    "plt.tight_layout()"
   ]
  },
  {
   "cell_type": "code",
   "execution_count": 25,
   "id": "469b872b",
   "metadata": {},
   "outputs": [
    {
     "name": "stdout",
     "output_type": "stream",
     "text": [
      "skewed features greater than 0.75 ares: ['FFMC', 'DC', 'ISI', 'RH', 'rain']\n"
     ]
    }
   ],
   "source": [
    "# now we'll get the features with skew value greater than 0.75\n",
    "\n",
    "skew_values = data[features_names[3:]].skew()\n",
    "skew_columns = skew_values[np.abs(skew_values) > 0.75].index.to_list()\n",
    "print(f'skewed features greater than 0.75 ares: {skew_columns}')"
   ]
  },
  {
   "cell_type": "code",
   "execution_count": 26,
   "id": "8fa2e650",
   "metadata": {},
   "outputs": [],
   "source": [
    "# transforming skewed values using log transformation\n",
    "\n",
    "for skewed in skew_columns:\n",
    "    data[skewed] = np.log1p(data[skewed])\n",
    "    data.rename(columns = {skewed: f'log({skewed})'}, inplace = True)"
   ]
  },
  {
   "cell_type": "code",
   "execution_count": 27,
   "id": "cd107920",
   "metadata": {},
   "outputs": [],
   "source": [
    "# transforming the target variable using the same log transformation as suggested by UCI\n",
    "\n",
    "data['area'] = np.log1p(data['area'])\n",
    "data.rename(columns = {'area': 'log(area)'}, inplace = True)\n",
    "\n",
    "# saving the processed version of data to use it later\n",
    "data.to_csv('forestfires_processed.csv')"
   ]
  },
  {
   "cell_type": "markdown",
   "id": "3473ce1c",
   "metadata": {},
   "source": [
    "## 4. Modeling"
   ]
  },
  {
   "cell_type": "markdown",
   "id": "cd5de2ad",
   "metadata": {},
   "source": [
    "### A. Linear Regression"
   ]
  },
  {
   "cell_type": "markdown",
   "id": "4d06c546",
   "metadata": {},
   "source": [
    "#### a. Training on the full dataset"
   ]
  },
  {
   "cell_type": "code",
   "execution_count": 28,
   "id": "7dc441a7",
   "metadata": {},
   "outputs": [
    {
     "data": {
      "text/html": [
       "<div>\n",
       "<style scoped>\n",
       "    .dataframe tbody tr th:only-of-type {\n",
       "        vertical-align: middle;\n",
       "    }\n",
       "\n",
       "    .dataframe tbody tr th {\n",
       "        vertical-align: top;\n",
       "    }\n",
       "\n",
       "    .dataframe thead th {\n",
       "        text-align: right;\n",
       "    }\n",
       "</style>\n",
       "<table border=\"1\" class=\"dataframe\">\n",
       "  <thead>\n",
       "    <tr style=\"text-align: right;\">\n",
       "      <th></th>\n",
       "      <th>X</th>\n",
       "      <th>Y</th>\n",
       "      <th>sin(month)</th>\n",
       "      <th>sin(day)</th>\n",
       "      <th>log(FFMC)</th>\n",
       "      <th>DMC</th>\n",
       "      <th>log(DC)</th>\n",
       "      <th>log(ISI)</th>\n",
       "      <th>temp</th>\n",
       "      <th>log(RH)</th>\n",
       "      <th>wind</th>\n",
       "      <th>log(rain)</th>\n",
       "      <th>log(area)</th>\n",
       "    </tr>\n",
       "  </thead>\n",
       "  <tbody>\n",
       "    <tr>\n",
       "      <th>0</th>\n",
       "      <td>7</td>\n",
       "      <td>5</td>\n",
       "      <td>0.141120</td>\n",
       "      <td>-0.958924</td>\n",
       "      <td>4.468204</td>\n",
       "      <td>26.2</td>\n",
       "      <td>4.557030</td>\n",
       "      <td>1.808289</td>\n",
       "      <td>8.2</td>\n",
       "      <td>3.951244</td>\n",
       "      <td>6.7</td>\n",
       "      <td>0.000000</td>\n",
       "      <td>0.000000</td>\n",
       "    </tr>\n",
       "    <tr>\n",
       "      <th>1</th>\n",
       "      <td>7</td>\n",
       "      <td>4</td>\n",
       "      <td>-0.544021</td>\n",
       "      <td>0.909297</td>\n",
       "      <td>4.517431</td>\n",
       "      <td>35.4</td>\n",
       "      <td>6.507427</td>\n",
       "      <td>2.041220</td>\n",
       "      <td>18.0</td>\n",
       "      <td>3.526361</td>\n",
       "      <td>0.9</td>\n",
       "      <td>0.000000</td>\n",
       "      <td>0.000000</td>\n",
       "    </tr>\n",
       "    <tr>\n",
       "      <th>2</th>\n",
       "      <td>7</td>\n",
       "      <td>4</td>\n",
       "      <td>-0.544021</td>\n",
       "      <td>-0.279415</td>\n",
       "      <td>4.517431</td>\n",
       "      <td>43.7</td>\n",
       "      <td>6.533643</td>\n",
       "      <td>2.041220</td>\n",
       "      <td>14.6</td>\n",
       "      <td>3.526361</td>\n",
       "      <td>1.3</td>\n",
       "      <td>0.000000</td>\n",
       "      <td>0.000000</td>\n",
       "    </tr>\n",
       "    <tr>\n",
       "      <th>3</th>\n",
       "      <td>8</td>\n",
       "      <td>6</td>\n",
       "      <td>0.141120</td>\n",
       "      <td>-0.958924</td>\n",
       "      <td>4.529368</td>\n",
       "      <td>33.3</td>\n",
       "      <td>4.363099</td>\n",
       "      <td>2.302585</td>\n",
       "      <td>8.3</td>\n",
       "      <td>4.584967</td>\n",
       "      <td>4.0</td>\n",
       "      <td>0.182322</td>\n",
       "      <td>0.000000</td>\n",
       "    </tr>\n",
       "    <tr>\n",
       "      <th>4</th>\n",
       "      <td>8</td>\n",
       "      <td>6</td>\n",
       "      <td>0.141120</td>\n",
       "      <td>0.656987</td>\n",
       "      <td>4.503137</td>\n",
       "      <td>51.3</td>\n",
       "      <td>4.636669</td>\n",
       "      <td>2.360854</td>\n",
       "      <td>11.4</td>\n",
       "      <td>4.605170</td>\n",
       "      <td>1.8</td>\n",
       "      <td>0.000000</td>\n",
       "      <td>0.000000</td>\n",
       "    </tr>\n",
       "    <tr>\n",
       "      <th>...</th>\n",
       "      <td>...</td>\n",
       "      <td>...</td>\n",
       "      <td>...</td>\n",
       "      <td>...</td>\n",
       "      <td>...</td>\n",
       "      <td>...</td>\n",
       "      <td>...</td>\n",
       "      <td>...</td>\n",
       "      <td>...</td>\n",
       "      <td>...</td>\n",
       "      <td>...</td>\n",
       "      <td>...</td>\n",
       "      <td>...</td>\n",
       "    </tr>\n",
       "    <tr>\n",
       "      <th>512</th>\n",
       "      <td>4</td>\n",
       "      <td>3</td>\n",
       "      <td>0.989358</td>\n",
       "      <td>0.656987</td>\n",
       "      <td>4.414010</td>\n",
       "      <td>56.7</td>\n",
       "      <td>6.502190</td>\n",
       "      <td>1.064711</td>\n",
       "      <td>27.8</td>\n",
       "      <td>3.496508</td>\n",
       "      <td>2.7</td>\n",
       "      <td>0.000000</td>\n",
       "      <td>2.006871</td>\n",
       "    </tr>\n",
       "    <tr>\n",
       "      <th>513</th>\n",
       "      <td>2</td>\n",
       "      <td>4</td>\n",
       "      <td>0.989358</td>\n",
       "      <td>0.656987</td>\n",
       "      <td>4.414010</td>\n",
       "      <td>56.7</td>\n",
       "      <td>6.502190</td>\n",
       "      <td>1.064711</td>\n",
       "      <td>21.9</td>\n",
       "      <td>4.276666</td>\n",
       "      <td>5.8</td>\n",
       "      <td>0.000000</td>\n",
       "      <td>4.012592</td>\n",
       "    </tr>\n",
       "    <tr>\n",
       "      <th>514</th>\n",
       "      <td>7</td>\n",
       "      <td>4</td>\n",
       "      <td>0.989358</td>\n",
       "      <td>0.656987</td>\n",
       "      <td>4.414010</td>\n",
       "      <td>56.7</td>\n",
       "      <td>6.502190</td>\n",
       "      <td>1.064711</td>\n",
       "      <td>21.2</td>\n",
       "      <td>4.262680</td>\n",
       "      <td>6.7</td>\n",
       "      <td>0.000000</td>\n",
       "      <td>2.498152</td>\n",
       "    </tr>\n",
       "    <tr>\n",
       "      <th>515</th>\n",
       "      <td>1</td>\n",
       "      <td>4</td>\n",
       "      <td>0.989358</td>\n",
       "      <td>-0.279415</td>\n",
       "      <td>4.558079</td>\n",
       "      <td>146.0</td>\n",
       "      <td>6.422760</td>\n",
       "      <td>2.509599</td>\n",
       "      <td>25.6</td>\n",
       "      <td>3.761200</td>\n",
       "      <td>4.0</td>\n",
       "      <td>0.000000</td>\n",
       "      <td>0.000000</td>\n",
       "    </tr>\n",
       "    <tr>\n",
       "      <th>516</th>\n",
       "      <td>6</td>\n",
       "      <td>3</td>\n",
       "      <td>-0.999990</td>\n",
       "      <td>0.909297</td>\n",
       "      <td>4.388257</td>\n",
       "      <td>3.0</td>\n",
       "      <td>4.679350</td>\n",
       "      <td>0.741937</td>\n",
       "      <td>11.8</td>\n",
       "      <td>3.465736</td>\n",
       "      <td>4.5</td>\n",
       "      <td>0.000000</td>\n",
       "      <td>0.000000</td>\n",
       "    </tr>\n",
       "  </tbody>\n",
       "</table>\n",
       "<p>517 rows × 13 columns</p>\n",
       "</div>"
      ],
      "text/plain": [
       "     X  Y  sin(month)  sin(day)  log(FFMC)    DMC   log(DC)  log(ISI)  temp  \\\n",
       "0    7  5    0.141120 -0.958924   4.468204   26.2  4.557030  1.808289   8.2   \n",
       "1    7  4   -0.544021  0.909297   4.517431   35.4  6.507427  2.041220  18.0   \n",
       "2    7  4   -0.544021 -0.279415   4.517431   43.7  6.533643  2.041220  14.6   \n",
       "3    8  6    0.141120 -0.958924   4.529368   33.3  4.363099  2.302585   8.3   \n",
       "4    8  6    0.141120  0.656987   4.503137   51.3  4.636669  2.360854  11.4   \n",
       "..  .. ..         ...       ...        ...    ...       ...       ...   ...   \n",
       "512  4  3    0.989358  0.656987   4.414010   56.7  6.502190  1.064711  27.8   \n",
       "513  2  4    0.989358  0.656987   4.414010   56.7  6.502190  1.064711  21.9   \n",
       "514  7  4    0.989358  0.656987   4.414010   56.7  6.502190  1.064711  21.2   \n",
       "515  1  4    0.989358 -0.279415   4.558079  146.0  6.422760  2.509599  25.6   \n",
       "516  6  3   -0.999990  0.909297   4.388257    3.0  4.679350  0.741937  11.8   \n",
       "\n",
       "      log(RH)  wind  log(rain)  log(area)  \n",
       "0    3.951244   6.7   0.000000   0.000000  \n",
       "1    3.526361   0.9   0.000000   0.000000  \n",
       "2    3.526361   1.3   0.000000   0.000000  \n",
       "3    4.584967   4.0   0.182322   0.000000  \n",
       "4    4.605170   1.8   0.000000   0.000000  \n",
       "..        ...   ...        ...        ...  \n",
       "512  3.496508   2.7   0.000000   2.006871  \n",
       "513  4.276666   5.8   0.000000   4.012592  \n",
       "514  4.262680   6.7   0.000000   2.498152  \n",
       "515  3.761200   4.0   0.000000   0.000000  \n",
       "516  3.465736   4.5   0.000000   0.000000  \n",
       "\n",
       "[517 rows x 13 columns]"
      ]
     },
     "metadata": {},
     "output_type": "display_data"
    }
   ],
   "source": [
    "display(data)"
   ]
  },
  {
   "cell_type": "code",
   "execution_count": 29,
   "id": "8b3a05c0",
   "metadata": {},
   "outputs": [],
   "source": [
    "# splitting the data into train and test sets\n",
    "\n",
    "X, y = data.drop(columns = ['log(area)']), data['log(area)']\n",
    "X_train, X_test, y_train, y_test = train_test_split(X, y, test_size = 0.23, random_state = 42)"
   ]
  },
  {
   "cell_type": "code",
   "execution_count": 30,
   "id": "8a1f3a00",
   "metadata": {},
   "outputs": [
    {
     "name": "stdout",
     "output_type": "stream",
     "text": [
      "R2 score on the training data: 0.02624551823574761\n",
      "R2 score on the testing data: 0.020016648164064788\n"
     ]
    }
   ],
   "source": [
    "# fitting a linear regression model\n",
    "\n",
    "linear = LinearRegression().fit(X_train, y_train)\n",
    "train_preds = linear.predict(X_train)\n",
    "test_preds = linear.predict(X_test)\n",
    "\n",
    "# R2 score on the training and test sets\n",
    "print(f'R2 score on the training data: {r2_score(y_train, train_preds)}')\n",
    "print(f'R2 score on the testing data: {r2_score(y_test, test_preds)}')"
   ]
  },
  {
   "cell_type": "code",
   "execution_count": 31,
   "id": "d71cafbb",
   "metadata": {},
   "outputs": [
    {
     "name": "stdout",
     "output_type": "stream",
     "text": [
      "shape of splines data: (517, 24)\n",
      "R2 score on the training spline data: 0.06609238533390227\n",
      "R2 score on the testing spline data: -0.00793185555410636\n"
     ]
    }
   ],
   "source": [
    "# adding splines of the X and Y variables only and training on the new dataframe\n",
    "\n",
    "# getting the features and target data without X and Y\n",
    "X, y = data.drop(columns = ['X', 'Y', 'log(area)']), data['log(area)']\n",
    "\n",
    "# making 6 splines of X and Y variables each\n",
    "xy_splined = pd.DataFrame(spline.fit_transform(data[['X', 'Y']]), columns = spline.get_feature_names_out())\n",
    "\n",
    "# adding the new features data frame\n",
    "X = pd.concat([xy_splined, X], axis = 1)\n",
    "print(f'shape of splines data: {X.shape}')\n",
    "\n",
    "# splitting the data into train and test sets\n",
    "X_train, X_test, y_train, y_test = train_test_split(X, y, test_size = 0.25, random_state = 42)\n",
    "\n",
    "# scaling the data\n",
    "scaler.fit(X_train)\n",
    "\n",
    "X_train = pd.DataFrame(scaler.transform(X_train), columns = scaler.get_feature_names_out())\n",
    "X_test = pd.DataFrame(scaler.transform(X_test), columns = scaler.get_feature_names_out())\n",
    "\n",
    "\n",
    "# fitting the same linear regression model\n",
    "linear = LinearRegression().fit(X_train, y_train)\n",
    "train_preds = linear.predict(X_train)\n",
    "test_preds = linear.predict(X_test)\n",
    "\n",
    "# R2 score on the training and test sets\n",
    "print(f'R2 score on the training spline data: {r2_score(y_train, train_preds)}')\n",
    "print(f'R2 score on the testing spline data: {r2_score(y_test, test_preds)}')"
   ]
  },
  {
   "cell_type": "code",
   "execution_count": 32,
   "id": "0aedf064",
   "metadata": {},
   "outputs": [
    {
     "name": "stdout",
     "output_type": "stream",
     "text": [
      "maximum R2 score from cross validation: 0.06734455393502425\n"
     ]
    }
   ],
   "source": [
    "# coss validate on the entire data\n",
    "\n",
    "# getting features and target data\n",
    "X, y = data.drop(columns = ['log(area)']), data['log(area)']\n",
    "\n",
    "# defining the cross validation splitting folds\n",
    "folds = KFold(n_splits = 10, random_state = 42, shuffle = True)\n",
    "\n",
    "# cross validation of a linear regression model\n",
    "linear = LinearRegression()\n",
    "max_score = np.max(cross_val_score(linear, X, y, cv = folds, scoring = 'r2'))\n",
    "print(f'maximum R2 score from cross validation: {max_score}')"
   ]
  },
  {
   "cell_type": "code",
   "execution_count": 33,
   "id": "a54da873",
   "metadata": {},
   "outputs": [
    {
     "name": "stdout",
     "output_type": "stream",
     "text": [
      "R2 score on the training nonzero spline data: 0.10185388319440958\n",
      "R2 score on the testing nonzero spline data: -0.20179831884602772\n"
     ]
    }
   ],
   "source": [
    "# regressing on the nonzero data only\n",
    "\n",
    "# getting the nonzero data\n",
    "nonzero_data = data[data['log(area)'] != 0].reset_index()\n",
    "\n",
    "X, y = nonzero_data.drop(columns = ['log(area)']), nonzero_data['log(area)']\n",
    "\n",
    "# splitting the data into train and test sets\n",
    "X_train, X_test, y_train, y_test = train_test_split(X, y, test_size = 0.25, random_state = 42)\n",
    "\n",
    "# scaling the data\n",
    "scaler.fit(X_train)\n",
    "\n",
    "X_train = pd.DataFrame(scaler.transform(X_train), columns = scaler.get_feature_names_out())\n",
    "X_test = pd.DataFrame(scaler.transform(X_test), columns = scaler.get_feature_names_out())\n",
    "\n",
    "# fitting a linear regression model\n",
    "linear = LinearRegression().fit(X_train, y_train)\n",
    "train_preds = linear.predict(X_train)\n",
    "test_preds = linear.predict(X_test)\n",
    "\n",
    "\n",
    "# R2 score on the training and test sets\n",
    "print(f'R2 score on the training nonzero spline data: {r2_score(y_train, train_preds)}')\n",
    "print(f'R2 score on the testing nonzero spline data: {r2_score(y_test, test_preds)}')"
   ]
  },
  {
   "cell_type": "code",
   "execution_count": 34,
   "id": "eb29f4a8",
   "metadata": {},
   "outputs": [
    {
     "name": "stdout",
     "output_type": "stream",
     "text": [
      "maximum R2 score from cross validation on the nonzero data: 0.0564335474026284\n"
     ]
    }
   ],
   "source": [
    "# regressing on the nonzero splined data\n",
    "\n",
    "X, y = nonzero_data.drop(columns = ['X', 'Y', 'log(area)']), nonzero_data['log(area)']\n",
    "\n",
    "xy_splined = pd.DataFrame(spline.fit_transform(nonzero_data[['X', 'Y']]), columns = spline.get_feature_names_out())\n",
    "X = pd.concat([xy_splined, X], axis = 1)\n",
    "\n",
    "\n",
    "# cross validation of a linear regression model\n",
    "linear = LinearRegression()\n",
    "max_score = np.max(cross_val_score(linear, X, y, cv = folds, scoring = 'r2'))\n",
    "print(f'maximum R2 score from cross validation on the nonzero data: {max_score}')"
   ]
  },
  {
   "cell_type": "markdown",
   "id": "0c7502f4",
   "metadata": {},
   "source": [
    "#### b. Training on only 7 features out of 12"
   ]
  },
  {
   "cell_type": "code",
   "execution_count": 35,
   "id": "13221d47",
   "metadata": {},
   "outputs": [],
   "source": [
    "# function to loop through the selected features sets and print the maximum R2 score\n",
    "\n",
    "def scoringfn(model = LinearRegression(), data = data, num_features = 7, nonzero = False, splines = False):\n",
    "    # creating empty lists to save the scores\n",
    "    train_scores = []\n",
    "    test_scores = []\n",
    "    \n",
    "    if nonzero:\n",
    "        data = data[data['log(area)'] != 0].reset_index()\n",
    "    \n",
    "    # splitting the data into target and features\n",
    "    X, y = data.drop(columns = ['log(area)']), data['log(area)']\n",
    "        \n",
    "    # adding splines to the X and Y variables only\n",
    "    if splines and type(LinearRegression()).__name__ == 'LinearRegression':\n",
    "        spline = SplineTransformer()\n",
    "        spline.fit(X[['X', 'Y']])\n",
    "        xy_splined = pd.DataFrame(spline.transform(X[['X', 'Y']]), columns = spline.get_feature_names_out())\n",
    "        X.drop(columns = ['X', 'Y'])\n",
    "        X = pd.concat([xy_splined, X], axis = 1)\n",
    "                         \n",
    "        \n",
    "    # splitting the data into train and test sets\n",
    "    X_train, X_test, y_train, y_test = train_test_split(X, y,\n",
    "                                                       test_size = 0.25, random_state = 42)\n",
    "    \n",
    "    # scaling the data\n",
    "    scaler = MinMaxScaler()\n",
    "    scaler.fit(X_train)\n",
    "    X_train = pd.DataFrame(scaler.transform(X_train), columns = scaler.get_feature_names_out())\n",
    "    X_test = pd.DataFrame(scaler.transform(X_test), columns = scaler.get_feature_names_out())\n",
    "\n",
    "    \n",
    "    # initializing the feature selection process\n",
    "    select = RFE(model, n_features_to_select = num_features)\n",
    "    select.fit(X_train, y_train)\n",
    "    print(f'features selected are:\\n{X_train.columns[select.get_support()]}')\n",
    "    \n",
    "    X_train_selected = select.transform(X_train)\n",
    "    X_test_selected = select.transform(X_test)\n",
    "    \n",
    "        \n",
    "    # fitting the model and storing the scores\n",
    "    linear = model.fit(X_train_selected, y_train)\n",
    "    train_preds = linear.predict(X_train_selected)\n",
    "    test_preds = linear.predict(X_test_selected)\n",
    "    train_scores.append(r2_score(y_train, train_preds))\n",
    "    test_scores.append(r2_score(y_test, test_preds))\n",
    "    \n",
    "    print(f'maximum R2 score on the training data: {np.max(train_scores)}')\n",
    "    print(f'maximum R2 score on the testing data: {np.max(test_scores)}')"
   ]
  },
  {
   "cell_type": "code",
   "execution_count": 36,
   "id": "85a1f194",
   "metadata": {},
   "outputs": [
    {
     "name": "stdout",
     "output_type": "stream",
     "text": [
      "features selected are:\n",
      "Index(['X', 'sin(month)', 'log(FFMC)', 'DMC', 'log(ISI)', 'wind', 'log(rain)'], dtype='object')\n",
      "maximum R2 score on the training data: 0.02614115249579574\n",
      "maximum R2 score on the testing data: -0.004236517488444669\n"
     ]
    }
   ],
   "source": [
    "# training using the 7 features out of 12 and with the full zero data without splines\n",
    "scoringfn()"
   ]
  },
  {
   "cell_type": "code",
   "execution_count": 37,
   "id": "48afef97",
   "metadata": {},
   "outputs": [
    {
     "name": "stdout",
     "output_type": "stream",
     "text": [
      "features selected are:\n",
      "Index(['X_sp_0', 'X_sp_1', 'X_sp_2', 'X_sp_3', 'X_sp_4', 'X_sp_5', 'X'], dtype='object')\n",
      "maximum R2 score on the training data: 0.013773214693851066\n",
      "maximum R2 score on the testing data: -0.010988863026106577\n"
     ]
    }
   ],
   "source": [
    "# training using the 7 features out of 12 and with the full zero data with splines\n",
    "scoringfn(splines = True)"
   ]
  },
  {
   "cell_type": "code",
   "execution_count": 38,
   "id": "5ed46c6e",
   "metadata": {},
   "outputs": [
    {
     "name": "stdout",
     "output_type": "stream",
     "text": [
      "features selected are:\n",
      "Index(['X', 'Y', 'sin(month)', 'DMC', 'log(DC)', 'temp', 'log(RH)'], dtype='object')\n",
      "maximum R2 score on the training data: 0.0828973014486063\n",
      "maximum R2 score on the testing data: -0.18953736467508953\n"
     ]
    }
   ],
   "source": [
    "# training using the 7 features out of 12 and with nonzero data without spline\n",
    "scoringfn(nonzero = True)"
   ]
  },
  {
   "cell_type": "code",
   "execution_count": 39,
   "id": "9b60e69c",
   "metadata": {},
   "outputs": [
    {
     "name": "stdout",
     "output_type": "stream",
     "text": [
      "features selected are:\n",
      "Index(['X_sp_0', 'X_sp_1', 'X_sp_2', 'X_sp_3', 'X_sp_4', 'X_sp_5', 'X'], dtype='object')\n",
      "maximum R2 score on the training data: -0.0013220779940312788\n",
      "maximum R2 score on the testing data: -0.0941071144296135\n"
     ]
    }
   ],
   "source": [
    "# training using the 7 features out of 12 and with nonzero data with splines\n",
    "scoringfn(nonzero = True, splines = True)"
   ]
  },
  {
   "cell_type": "markdown",
   "id": "024cbeb2",
   "metadata": {},
   "source": [
    "### B. Ridge Regression"
   ]
  },
  {
   "cell_type": "markdown",
   "id": "3d537ded",
   "metadata": {},
   "source": [
    "#### a. Training on the full dataset"
   ]
  },
  {
   "cell_type": "code",
   "execution_count": 40,
   "id": "3d7aa5eb",
   "metadata": {},
   "outputs": [
    {
     "name": "stdout",
     "output_type": "stream",
     "text": [
      "features selected are:\n",
      "Index(['X', 'Y', 'sin(month)', 'sin(day)', 'log(FFMC)', 'DMC', 'log(DC)',\n",
      "       'log(ISI)', 'temp', 'log(RH)', 'wind', 'log(rain)'],\n",
      "      dtype='object')\n",
      "maximum R2 score on the training data: 0.02167095369322325\n",
      "maximum R2 score on the testing data: 0.0020225419919603915\n"
     ]
    }
   ],
   "source": [
    "# we will perform Ridge cross validation test on the data and look for the best R2 score\n",
    "\n",
    "ridgecv = RidgeCV()\n",
    "\n",
    "# training on the full dataset with all the features\n",
    "scoringfn(model = ridgecv, num_features = 12)"
   ]
  },
  {
   "cell_type": "code",
   "execution_count": 41,
   "id": "410414be",
   "metadata": {},
   "outputs": [
    {
     "name": "stdout",
     "output_type": "stream",
     "text": [
      "features selected are:\n",
      "Index(['index', 'X', 'Y', 'sin(month)', 'sin(day)', 'log(FFMC)', 'DMC',\n",
      "       'log(DC)', 'log(ISI)', 'log(RH)', 'wind', 'log(rain)'],\n",
      "      dtype='object')\n",
      "maximum R2 score on the training data: 0.06255656338416415\n",
      "maximum R2 score on the testing data: -0.09357924722105593\n"
     ]
    }
   ],
   "source": [
    "# training on the nonzero dataset with all the features\n",
    "scoringfn(model = ridgecv, num_features = 12, nonzero = True)"
   ]
  },
  {
   "cell_type": "markdown",
   "id": "cde97540",
   "metadata": {},
   "source": [
    "#### b. Training on only 7 features out of 12"
   ]
  },
  {
   "cell_type": "code",
   "execution_count": 42,
   "id": "d8d4e2ed",
   "metadata": {
    "scrolled": false
   },
   "outputs": [
    {
     "name": "stdout",
     "output_type": "stream",
     "text": [
      "training on 7 features out of 12\n",
      "----------------------------------\n",
      "\n",
      "full dataset\n",
      "features selected are:\n",
      "Index(['X', 'Y', 'sin(month)', 'log(FFMC)', 'DMC', 'log(DC)', 'wind'], dtype='object')\n",
      "maximum R2 score on the training data: 0.021477362289535895\n",
      "maximum R2 score on the testing data: -0.002353534991608397\n",
      "----------------------------------\n",
      "\n",
      "nonzero dataset\n",
      "features selected are:\n",
      "Index(['index', 'X', 'Y', 'sin(month)', 'DMC', 'log(RH)', 'wind'], dtype='object')\n",
      "maximum R2 score on the training data: 0.08327703590716906\n",
      "maximum R2 score on the testing data: -0.14269708120083946\n"
     ]
    }
   ],
   "source": [
    "print('training on 7 features out of 12')\n",
    "print('----------------------------------\\n')\n",
    "\n",
    "\n",
    "# training on the full dataset\n",
    "print('full dataset')\n",
    "scoringfn(model = ridgecv)\n",
    "print('----------------------------------\\n')\n",
    "\n",
    "# training on the nonzero dataset\n",
    "print('nonzero dataset')\n",
    "scoringfn(model = ridgecv, nonzero = True)"
   ]
  },
  {
   "cell_type": "markdown",
   "id": "855cb498",
   "metadata": {},
   "source": [
    "### C. Lasso Regression"
   ]
  },
  {
   "cell_type": "markdown",
   "id": "c2270653",
   "metadata": {},
   "source": [
    "#### a. training on the full dataset"
   ]
  },
  {
   "cell_type": "code",
   "execution_count": 43,
   "id": "c1444766",
   "metadata": {},
   "outputs": [
    {
     "name": "stdout",
     "output_type": "stream",
     "text": [
      "features selected are:\n",
      "Index(['X', 'Y', 'sin(month)', 'sin(day)', 'log(FFMC)', 'DMC', 'log(DC)',\n",
      "       'log(ISI)', 'temp', 'log(RH)', 'wind', 'log(rain)'],\n",
      "      dtype='object')\n",
      "maximum R2 score on the training data: 0.015549844913635313\n",
      "maximum R2 score on the testing data: -0.013516717124470556\n"
     ]
    }
   ],
   "source": [
    "lassocv = LassoCV()\n",
    "\n",
    "# training on the full dataset with all the features\n",
    "scoringfn(model = lassocv, num_features = 12)"
   ]
  },
  {
   "cell_type": "code",
   "execution_count": 44,
   "id": "958bc9c5",
   "metadata": {},
   "outputs": [
    {
     "name": "stdout",
     "output_type": "stream",
     "text": [
      "features selected are:\n",
      "Index(['index', 'X', 'Y', 'sin(month)', 'sin(day)', 'DMC', 'log(DC)',\n",
      "       'log(ISI)', 'temp', 'log(RH)', 'wind', 'log(rain)'],\n",
      "      dtype='object')\n",
      "maximum R2 score on the training data: 0.09572138365068328\n",
      "maximum R2 score on the testing data: -0.1563593217921846\n"
     ]
    }
   ],
   "source": [
    "# training on the nonzero dataset with all the features\n",
    "scoringfn(model = lassocv, num_features = 12, nonzero = True)"
   ]
  },
  {
   "cell_type": "markdown",
   "id": "ddaeef46",
   "metadata": {},
   "source": [
    "#### b. Training on 7 features out of 12"
   ]
  },
  {
   "cell_type": "code",
   "execution_count": 45,
   "id": "3a8d8c43",
   "metadata": {},
   "outputs": [
    {
     "name": "stdout",
     "output_type": "stream",
     "text": [
      "training on 7 features out of 12\n",
      "----------------------------------\n",
      "\n",
      "full dataset\n",
      "features selected are:\n",
      "Index(['X', 'DMC', 'log(ISI)', 'temp', 'log(RH)', 'wind', 'log(rain)'], dtype='object')\n",
      "maximum R2 score on the training data: 0.01641576254675592\n",
      "maximum R2 score on the testing data: -0.01525724126909278\n",
      "----------------------------------\n",
      "\n",
      "nonzero dataset\n",
      "features selected are:\n",
      "Index(['X', 'Y', 'sin(month)', 'DMC', 'log(DC)', 'log(RH)', 'wind'], dtype='object')\n",
      "maximum R2 score on the training data: 0.08673270282755774\n",
      "maximum R2 score on the testing data: -0.19518771610585062\n"
     ]
    }
   ],
   "source": [
    "print('training on 7 features out of 12')\n",
    "print('----------------------------------\\n')\n",
    "\n",
    "\n",
    "# training on the full dataset\n",
    "print('full dataset')\n",
    "scoringfn(model = lassocv)\n",
    "print('----------------------------------\\n')\n",
    "\n",
    "# training on the nonzero dataset\n",
    "print('nonzero dataset')\n",
    "scoringfn(model = lassocv, nonzero = True)"
   ]
  },
  {
   "cell_type": "markdown",
   "id": "64533f39",
   "metadata": {},
   "source": [
    "### D. Elastic Net Regression"
   ]
  },
  {
   "cell_type": "markdown",
   "id": "c78b690c",
   "metadata": {},
   "source": [
    "#### a. Training on the full dataset"
   ]
  },
  {
   "cell_type": "code",
   "execution_count": 46,
   "id": "69ac5896",
   "metadata": {},
   "outputs": [
    {
     "name": "stdout",
     "output_type": "stream",
     "text": [
      "features selected are:\n",
      "Index(['X', 'Y', 'sin(month)', 'sin(day)', 'log(FFMC)', 'DMC', 'log(DC)',\n",
      "       'log(ISI)', 'temp', 'log(RH)', 'wind', 'log(rain)'],\n",
      "      dtype='object')\n",
      "maximum R2 score on the training data: 0.014632326158540376\n",
      "maximum R2 score on the testing data: -0.011988575096204324\n"
     ]
    }
   ],
   "source": [
    "elasticnetcv = ElasticNetCV()\n",
    "\n",
    "# training on the full dataset with all the features\n",
    "scoringfn(model = elasticnetcv, num_features = 12)"
   ]
  },
  {
   "cell_type": "code",
   "execution_count": 47,
   "id": "fc91d94d",
   "metadata": {},
   "outputs": [
    {
     "name": "stdout",
     "output_type": "stream",
     "text": [
      "features selected are:\n",
      "Index(['index', 'X', 'Y', 'sin(month)', 'sin(day)', 'DMC', 'log(DC)',\n",
      "       'log(ISI)', 'temp', 'log(RH)', 'wind', 'log(rain)'],\n",
      "      dtype='object')\n",
      "maximum R2 score on the training data: 0.09131379599915701\n",
      "maximum R2 score on the testing data: -0.1402831305917236\n"
     ]
    }
   ],
   "source": [
    "# training on the nonzero dataset with all the features\n",
    "scoringfn(model = elasticnetcv, num_features = 12, nonzero = True)"
   ]
  },
  {
   "cell_type": "markdown",
   "id": "754dea59",
   "metadata": {},
   "source": [
    "#### b. Training on only 7 features out of 12"
   ]
  },
  {
   "cell_type": "code",
   "execution_count": 48,
   "id": "35e0b21d",
   "metadata": {},
   "outputs": [
    {
     "name": "stdout",
     "output_type": "stream",
     "text": [
      "training on 7 features out of 12\n",
      "----------------------------------\n",
      "\n",
      "full dataset\n",
      "features selected are:\n",
      "Index(['X', 'DMC', 'log(ISI)', 'temp', 'log(RH)', 'wind', 'log(rain)'], dtype='object')\n",
      "maximum R2 score on the training data: 0.01789857479415624\n",
      "maximum R2 score on the testing data: -0.013661839548300803\n",
      "----------------------------------\n",
      "\n",
      "nonzero dataset\n",
      "features selected are:\n",
      "Index(['X', 'DMC', 'log(ISI)', 'temp', 'log(RH)', 'wind', 'log(rain)'], dtype='object')\n",
      "maximum R2 score on the training data: 0.01789857479415624\n",
      "maximum R2 score on the testing data: -0.013661839548300803\n"
     ]
    }
   ],
   "source": [
    "print('training on 7 features out of 12')\n",
    "print('----------------------------------\\n')\n",
    "\n",
    "\n",
    "# training on the full dataset\n",
    "print('full dataset')\n",
    "scoringfn(model = elasticnetcv)\n",
    "print('----------------------------------\\n')\n",
    "\n",
    "# training on the nonzero dataset\n",
    "print('nonzero dataset')\n",
    "scoringfn(model = elasticnetcv)"
   ]
  },
  {
   "cell_type": "markdown",
   "id": "acdca394",
   "metadata": {},
   "source": [
    "## 5. Summary"
   ]
  },
  {
   "cell_type": "markdown",
   "id": "ef835c99",
   "metadata": {},
   "source": [
    "* In this notebook I have explored different regression models trying to come up with good R2 scores but the data distributions and coorelations among features themselves and with the target vaiable are not satisfying the linear regression models.<br>\n",
    "* Also, as suggested from literatures, i have tried using different subsets of the full data and tried to regress on only the nonzero observations but still no good results show up.<br>\n",
    "* For the sake of finding different interactions among data features, I tried different techniques including adding polynomial and spline features. Yet, nothing produced good results but the spline transform proved to have good significance on the R2 score. For that reason, I only included the spline transformations and obmitted the polynomial transformations.<br>\n",
    "* In addition, I defined a function to print out the maximum R2 score when selecting subset features of the full data attributes. I used two techniques: the first was using different combinations using the `combinations` class from the `itertools` library, and the second was using automatic feature selection from `feature_selection` module. When using automatic feature selection, I used only the `RFE` (recursive feature elemination) class for having the best selection process.<br>\n",
    "* Lastly, I reied different transormation techniques on the features including `boxcox` transformation, but it gave errors. So, I kept only the `np.sin` and `np.log1p`."
   ]
  },
  {
   "cell_type": "markdown",
   "id": "c99b0083",
   "metadata": {},
   "source": [
    "# End of Linear Regression"
   ]
  }
 ],
 "metadata": {
  "kernelspec": {
   "display_name": "Python 3 (ipykernel)",
   "language": "python",
   "name": "python3"
  },
  "language_info": {
   "codemirror_mode": {
    "name": "ipython",
    "version": 3
   },
   "file_extension": ".py",
   "mimetype": "text/x-python",
   "name": "python",
   "nbconvert_exporter": "python",
   "pygments_lexer": "ipython3",
   "version": "3.9.7"
  }
 },
 "nbformat": 4,
 "nbformat_minor": 5
}
